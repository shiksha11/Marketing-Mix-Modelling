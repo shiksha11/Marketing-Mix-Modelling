{
 "cells": [
  {
   "cell_type": "code",
   "execution_count": 60,
   "metadata": {},
   "outputs": [],
   "source": [
    "import numpy as np \n",
    "import pandas as pd\n",
    "import matplotlib.pyplot as plt\n",
    "import sklearn\n",
    "from sklearn import preprocessing\n",
    "from sklearn.preprocessing import MinMaxScaler\n",
    "from sklearn.model_selection import train_test_split\n",
    "import warnings\n",
    "from sklearn.exceptions import DataConversionWarning\n",
    "warnings.filterwarnings(action='ignore')"
   ]
  },
  {
   "cell_type": "code",
   "execution_count": 61,
   "metadata": {},
   "outputs": [],
   "source": [
    "#IMPORT THE DATASET\n",
    "df = pd.read_csv(\"/Users/shiksharawat/Desktop/cheese.csv\")"
   ]
  },
  {
   "cell_type": "code",
   "execution_count": 62,
   "metadata": {},
   "outputs": [
    {
     "data": {
      "text/html": [
       "<div>\n",
       "<style scoped>\n",
       "    .dataframe tbody tr th:only-of-type {\n",
       "        vertical-align: middle;\n",
       "    }\n",
       "\n",
       "    .dataframe tbody tr th {\n",
       "        vertical-align: top;\n",
       "    }\n",
       "\n",
       "    .dataframe thead th {\n",
       "        text-align: right;\n",
       "    }\n",
       "</style>\n",
       "<table border=\"1\" class=\"dataframe\">\n",
       "  <thead>\n",
       "    <tr style=\"text-align: right;\">\n",
       "      <th></th>\n",
       "      <th>RETAILER</th>\n",
       "      <th>VOLUME</th>\n",
       "      <th>DISP</th>\n",
       "      <th>PRICE</th>\n",
       "    </tr>\n",
       "  </thead>\n",
       "  <tbody>\n",
       "    <tr>\n",
       "      <th>1</th>\n",
       "      <td>LOS ANGELES - LUCKY</td>\n",
       "      <td>21374</td>\n",
       "      <td>0.162000</td>\n",
       "      <td>2.578460</td>\n",
       "    </tr>\n",
       "    <tr>\n",
       "      <th>2</th>\n",
       "      <td>LOS ANGELES - RALPHS</td>\n",
       "      <td>6427</td>\n",
       "      <td>0.124113</td>\n",
       "      <td>3.727867</td>\n",
       "    </tr>\n",
       "    <tr>\n",
       "      <th>3</th>\n",
       "      <td>LOS ANGELES - VONS</td>\n",
       "      <td>17302</td>\n",
       "      <td>0.102000</td>\n",
       "      <td>2.711421</td>\n",
       "    </tr>\n",
       "    <tr>\n",
       "      <th>4</th>\n",
       "      <td>CHICAGO - DOMINICK</td>\n",
       "      <td>13561</td>\n",
       "      <td>0.027591</td>\n",
       "      <td>2.651206</td>\n",
       "    </tr>\n",
       "    <tr>\n",
       "      <th>5</th>\n",
       "      <td>CHICAGO - JEWEL</td>\n",
       "      <td>42774</td>\n",
       "      <td>0.090613</td>\n",
       "      <td>1.986674</td>\n",
       "    </tr>\n",
       "  </tbody>\n",
       "</table>\n",
       "</div>"
      ],
      "text/plain": [
       "               RETAILER  VOLUME      DISP     PRICE\n",
       "1   LOS ANGELES - LUCKY   21374  0.162000  2.578460\n",
       "2  LOS ANGELES - RALPHS    6427  0.124113  3.727867\n",
       "3    LOS ANGELES - VONS   17302  0.102000  2.711421\n",
       "4    CHICAGO - DOMINICK   13561  0.027591  2.651206\n",
       "5       CHICAGO - JEWEL   42774  0.090613  1.986674"
      ]
     },
     "execution_count": 62,
     "metadata": {},
     "output_type": "execute_result"
    }
   ],
   "source": [
    "df.head()"
   ]
  },
  {
   "cell_type": "code",
   "execution_count": 63,
   "metadata": {},
   "outputs": [],
   "source": [
    "#volume is the units of a product sold at any time t(target). \n",
    "#Disp is measure between 0 and 1 which indicates the level of investment done for advertisement at time t.\n",
    "#Price is the cost of the concerned product."
   ]
  },
  {
   "cell_type": "code",
   "execution_count": 64,
   "metadata": {},
   "outputs": [],
   "source": [
    "#We are not yet looking at hierarchical models, so we focus on one retailer, say Dominick’s in Chicago. \n",
    "new_df = df[df['RETAILER'] == 'CHICAGO - DOMINICK']\n",
    "new_df.drop(columns = 'RETAILER', inplace = True)"
   ]
  },
  {
   "cell_type": "code",
   "execution_count": 65,
   "metadata": {},
   "outputs": [
    {
     "data": {
      "text/html": [
       "<div>\n",
       "<style scoped>\n",
       "    .dataframe tbody tr th:only-of-type {\n",
       "        vertical-align: middle;\n",
       "    }\n",
       "\n",
       "    .dataframe tbody tr th {\n",
       "        vertical-align: top;\n",
       "    }\n",
       "\n",
       "    .dataframe thead th {\n",
       "        text-align: right;\n",
       "    }\n",
       "</style>\n",
       "<table border=\"1\" class=\"dataframe\">\n",
       "  <thead>\n",
       "    <tr style=\"text-align: right;\">\n",
       "      <th></th>\n",
       "      <th>VOLUME</th>\n",
       "      <th>DISP</th>\n",
       "      <th>PRICE</th>\n",
       "    </tr>\n",
       "  </thead>\n",
       "  <tbody>\n",
       "    <tr>\n",
       "      <th>count</th>\n",
       "      <td>61.000000</td>\n",
       "      <td>61.000000</td>\n",
       "      <td>61.000000</td>\n",
       "    </tr>\n",
       "    <tr>\n",
       "      <th>mean</th>\n",
       "      <td>13675.540984</td>\n",
       "      <td>0.244020</td>\n",
       "      <td>2.939939</td>\n",
       "    </tr>\n",
       "    <tr>\n",
       "      <th>std</th>\n",
       "      <td>20115.521986</td>\n",
       "      <td>0.238272</td>\n",
       "      <td>0.526535</td>\n",
       "    </tr>\n",
       "    <tr>\n",
       "      <th>min</th>\n",
       "      <td>4275.000000</td>\n",
       "      <td>0.000000</td>\n",
       "      <td>1.319992</td>\n",
       "    </tr>\n",
       "    <tr>\n",
       "      <th>25%</th>\n",
       "      <td>5675.000000</td>\n",
       "      <td>0.027591</td>\n",
       "      <td>2.961931</td>\n",
       "    </tr>\n",
       "    <tr>\n",
       "      <th>50%</th>\n",
       "      <td>6540.000000</td>\n",
       "      <td>0.193000</td>\n",
       "      <td>3.158916</td>\n",
       "    </tr>\n",
       "    <tr>\n",
       "      <th>75%</th>\n",
       "      <td>8462.000000</td>\n",
       "      <td>0.408000</td>\n",
       "      <td>3.242890</td>\n",
       "    </tr>\n",
       "    <tr>\n",
       "      <th>max</th>\n",
       "      <td>103763.000000</td>\n",
       "      <td>0.816000</td>\n",
       "      <td>3.293942</td>\n",
       "    </tr>\n",
       "  </tbody>\n",
       "</table>\n",
       "</div>"
      ],
      "text/plain": [
       "              VOLUME       DISP      PRICE\n",
       "count      61.000000  61.000000  61.000000\n",
       "mean    13675.540984   0.244020   2.939939\n",
       "std     20115.521986   0.238272   0.526535\n",
       "min      4275.000000   0.000000   1.319992\n",
       "25%      5675.000000   0.027591   2.961931\n",
       "50%      6540.000000   0.193000   3.158916\n",
       "75%      8462.000000   0.408000   3.242890\n",
       "max    103763.000000   0.816000   3.293942"
      ]
     },
     "execution_count": 65,
     "metadata": {},
     "output_type": "execute_result"
    }
   ],
   "source": [
    "new_df.describe()"
   ]
  },
  {
   "cell_type": "code",
   "execution_count": 66,
   "metadata": {},
   "outputs": [],
   "source": [
    "#Points to be noticed:\n",
    "#Very large standard deviation in volume. \n",
    "#No need to normalize the target.\n",
    "#Disp and Price are already scaled.\n"
   ]
  },
  {
   "cell_type": "code",
   "execution_count": 67,
   "metadata": {},
   "outputs": [
    {
     "data": {
      "text/html": [
       "<div>\n",
       "<style scoped>\n",
       "    .dataframe tbody tr th:only-of-type {\n",
       "        vertical-align: middle;\n",
       "    }\n",
       "\n",
       "    .dataframe tbody tr th {\n",
       "        vertical-align: top;\n",
       "    }\n",
       "\n",
       "    .dataframe thead th {\n",
       "        text-align: right;\n",
       "    }\n",
       "</style>\n",
       "<table border=\"1\" class=\"dataframe\">\n",
       "  <thead>\n",
       "    <tr style=\"text-align: right;\">\n",
       "      <th></th>\n",
       "      <th>VOLUME</th>\n",
       "      <th>DISP</th>\n",
       "      <th>PRICE</th>\n",
       "    </tr>\n",
       "  </thead>\n",
       "  <tbody>\n",
       "    <tr>\n",
       "      <th>4</th>\n",
       "      <td>13561</td>\n",
       "      <td>0.027591</td>\n",
       "      <td>2.651206</td>\n",
       "    </tr>\n",
       "    <tr>\n",
       "      <th>91</th>\n",
       "      <td>5937</td>\n",
       "      <td>0.004141</td>\n",
       "      <td>2.652181</td>\n",
       "    </tr>\n",
       "    <tr>\n",
       "      <th>178</th>\n",
       "      <td>5151</td>\n",
       "      <td>0.006174</td>\n",
       "      <td>3.293924</td>\n",
       "    </tr>\n",
       "    <tr>\n",
       "      <th>265</th>\n",
       "      <td>5734</td>\n",
       "      <td>0.012365</td>\n",
       "      <td>3.290896</td>\n",
       "    </tr>\n",
       "    <tr>\n",
       "      <th>352</th>\n",
       "      <td>5695</td>\n",
       "      <td>0.000000</td>\n",
       "      <td>3.293942</td>\n",
       "    </tr>\n",
       "  </tbody>\n",
       "</table>\n",
       "</div>"
      ],
      "text/plain": [
       "     VOLUME      DISP     PRICE\n",
       "4     13561  0.027591  2.651206\n",
       "91     5937  0.004141  2.652181\n",
       "178    5151  0.006174  3.293924\n",
       "265    5734  0.012365  3.290896\n",
       "352    5695  0.000000  3.293942"
      ]
     },
     "execution_count": 67,
     "metadata": {},
     "output_type": "execute_result"
    }
   ],
   "source": [
    "new_df.head()"
   ]
  },
  {
   "cell_type": "code",
   "execution_count": 68,
   "metadata": {},
   "outputs": [
    {
     "data": {
      "image/png": "[encoded data removed]",
      "text/plain": [
       "<Figure size 432x288 with 1 Axes>"
      ]
     },
     "metadata": {
      "needs_background": "light"
     },
     "output_type": "display_data"
    }
   ],
   "source": [
    "plt.scatter(new_df['DISP'],new_df['VOLUME'])\n",
    "plt.xlabel('DISP')\n",
    "plt.ylabel('VOLUME')\n",
    "plt.show()"
   ]
  },
  {
   "cell_type": "code",
   "execution_count": null,
   "metadata": {},
   "outputs": [],
   "source": [
    "#above plot shows that volume may decrease even when more degree of advertisemet increases "
   ]
  },
  {
   "cell_type": "code",
   "execution_count": 76,
   "metadata": {},
   "outputs": [
    {
     "data": {
      "text/plain": [
       "Text(0,0.5,'disp')"
      ]
     },
     "execution_count": 76,
     "metadata": {},
     "output_type": "execute_result"
    },
    {
     "data": {
      "image/png": "[encoded data removed]",
      "text/plain": [
       "<Figure size 1152x432 with 2 Axes>"
      ]
     },
     "metadata": {
      "needs_background": "light"
     },
     "output_type": "display_data"
    }
   ],
   "source": [
    "\n",
    "fig, axs = plt.subplots(1 , 1, figsize=(16,6))\n",
    "\n",
    "im = axs.scatter(new_df['PRICE'], new_df['VOLUME'], c=np.clip(new_df['DISP'], 0, 1), \n",
    "                     cmap='viridis', alpha=1.0, s=20)\n",
    "axs.set_xlabel('price')\n",
    "#axs.set_xlim()\n",
    "axs.set_ylabel('volume')\n",
    "cbar = fig.colorbar(im, ax=axs)\n",
    "cbar.ax.set_ylabel('disp', rotation=270)\n",
    "    \n"
   ]
  },
  {
   "cell_type": "code",
   "execution_count": 77,
   "metadata": {},
   "outputs": [],
   "source": [
    "#volume sold for products with very high price is low maybe because for them disp is also low."
   ]
  },
  {
   "cell_type": "code",
   "execution_count": 78,
   "metadata": {},
   "outputs": [
    {
     "name": "stdout",
     "output_type": "stream",
     "text": [
      "Mean Squared Error : 27173536.226761237\n"
     ]
    }
   ],
   "source": [
    "#Lets start with a very basic linear regression model.\n",
    "from sklearn.linear_model import LinearRegression\n",
    "from sklearn.metrics import mean_squared_error,mean_absolute_error\n",
    "copy = new_df.copy()\n",
    "#print(df.head())\n",
    "#print(target)\n",
    "target  = new_df['VOLUME']\n",
    "copy.drop(columns = 'VOLUME' , inplace = True)\n",
    "X_train, X_test, y_train, y_test= train_test_split(copy, target , random_state=111)\n",
    "reg = LinearRegression().fit(X_train, y_train)\n",
    "print('Mean Squared Error :',mean_squared_error(y_test, reg.predict(X_test)))"
   ]
  },
  {
   "cell_type": "code",
   "execution_count": 81,
   "metadata": {},
   "outputs": [],
   "source": [
    "#cleary very high error."
   ]
  },
  {
   "cell_type": "code",
   "execution_count": 82,
   "metadata": {},
   "outputs": [],
   "source": [
    "#There are some effect of advertising on sales, lets consider them one by one."
   ]
  },
  {
   "cell_type": "code",
   "execution_count": 83,
   "metadata": {},
   "outputs": [],
   "source": [
    "#Exposure to advertising today has effects on consumers’ purchasing decisions in the future.\n",
    "#Also,the effect of ad exposure on purchasing decisions decays with time.\n",
    "\n",
    "#We can incorporate Effects 1 and 2 into the above model by incorporating \n",
    "#the lagged effects of all previous ad exposures. This model is given by\n",
    "    \n",
    "                     #yt = β0 + β1st + εt\n",
    "                      \n",
    "                      #st = xt + λst − 1"
   ]
  },
  {
   "cell_type": "code",
   "execution_count": 84,
   "metadata": {},
   "outputs": [],
   "source": [
    "#To incorporate above changes I am introducing new feature st.\n",
    "#lets randomly assume value of λ to be 0.1. Effect of different values of λ will be analized later.\n",
    "\n",
    "#The rows in the dataset are monthly collected data for the retailer one after the other.\n",
    "#So we have to consider effect of disp value of a row on the row below it.\n",
    "a = [0]\n",
    "for i in new_df['DISP']:\n",
    "    a.append(i)\n",
    "    \n",
    "del a[-1] #value of last row need not be added anywhere.\n",
    "b = []\n",
    "b = np.array(a)\n",
    "#print(b)\n"
   ]
  },
  {
   "cell_type": "code",
   "execution_count": 85,
   "metadata": {},
   "outputs": [],
   "source": [
    "new_df['X'] = b"
   ]
  },
  {
   "cell_type": "code",
   "execution_count": 86,
   "metadata": {},
   "outputs": [
    {
     "data": {
      "text/html": [
       "<div>\n",
       "<style scoped>\n",
       "    .dataframe tbody tr th:only-of-type {\n",
       "        vertical-align: middle;\n",
       "    }\n",
       "\n",
       "    .dataframe tbody tr th {\n",
       "        vertical-align: top;\n",
       "    }\n",
       "\n",
       "    .dataframe thead th {\n",
       "        text-align: right;\n",
       "    }\n",
       "</style>\n",
       "<table border=\"1\" class=\"dataframe\">\n",
       "  <thead>\n",
       "    <tr style=\"text-align: right;\">\n",
       "      <th></th>\n",
       "      <th>VOLUME</th>\n",
       "      <th>DISP</th>\n",
       "      <th>PRICE</th>\n",
       "      <th>X</th>\n",
       "    </tr>\n",
       "  </thead>\n",
       "  <tbody>\n",
       "    <tr>\n",
       "      <th>4</th>\n",
       "      <td>13561</td>\n",
       "      <td>0.027591</td>\n",
       "      <td>2.651206</td>\n",
       "      <td>0.000000</td>\n",
       "    </tr>\n",
       "    <tr>\n",
       "      <th>91</th>\n",
       "      <td>5937</td>\n",
       "      <td>0.004141</td>\n",
       "      <td>2.652181</td>\n",
       "      <td>0.027591</td>\n",
       "    </tr>\n",
       "    <tr>\n",
       "      <th>178</th>\n",
       "      <td>5151</td>\n",
       "      <td>0.006174</td>\n",
       "      <td>3.293924</td>\n",
       "      <td>0.004141</td>\n",
       "    </tr>\n",
       "    <tr>\n",
       "      <th>265</th>\n",
       "      <td>5734</td>\n",
       "      <td>0.012365</td>\n",
       "      <td>3.290896</td>\n",
       "      <td>0.006174</td>\n",
       "    </tr>\n",
       "    <tr>\n",
       "      <th>352</th>\n",
       "      <td>5695</td>\n",
       "      <td>0.000000</td>\n",
       "      <td>3.293942</td>\n",
       "      <td>0.012365</td>\n",
       "    </tr>\n",
       "  </tbody>\n",
       "</table>\n",
       "</div>"
      ],
      "text/plain": [
       "     VOLUME      DISP     PRICE         X\n",
       "4     13561  0.027591  2.651206  0.000000\n",
       "91     5937  0.004141  2.652181  0.027591\n",
       "178    5151  0.006174  3.293924  0.004141\n",
       "265    5734  0.012365  3.290896  0.006174\n",
       "352    5695  0.000000  3.293942  0.012365"
      ]
     },
     "execution_count": 86,
     "metadata": {},
     "output_type": "execute_result"
    }
   ],
   "source": [
    "new_df.head()"
   ]
  },
  {
   "cell_type": "code",
   "execution_count": 87,
   "metadata": {},
   "outputs": [
    {
     "data": {
      "text/html": [
       "<div>\n",
       "<style scoped>\n",
       "    .dataframe tbody tr th:only-of-type {\n",
       "        vertical-align: middle;\n",
       "    }\n",
       "\n",
       "    .dataframe tbody tr th {\n",
       "        vertical-align: top;\n",
       "    }\n",
       "\n",
       "    .dataframe thead th {\n",
       "        text-align: right;\n",
       "    }\n",
       "</style>\n",
       "<table border=\"1\" class=\"dataframe\">\n",
       "  <thead>\n",
       "    <tr style=\"text-align: right;\">\n",
       "      <th></th>\n",
       "      <th>VOLUME</th>\n",
       "      <th>DISP</th>\n",
       "      <th>PRICE</th>\n",
       "    </tr>\n",
       "  </thead>\n",
       "  <tbody>\n",
       "    <tr>\n",
       "      <th>4</th>\n",
       "      <td>13561</td>\n",
       "      <td>0.027591</td>\n",
       "      <td>2.651206</td>\n",
       "    </tr>\n",
       "    <tr>\n",
       "      <th>91</th>\n",
       "      <td>5937</td>\n",
       "      <td>0.006900</td>\n",
       "      <td>2.652181</td>\n",
       "    </tr>\n",
       "    <tr>\n",
       "      <th>178</th>\n",
       "      <td>5151</td>\n",
       "      <td>0.006588</td>\n",
       "      <td>3.293924</td>\n",
       "    </tr>\n",
       "    <tr>\n",
       "      <th>265</th>\n",
       "      <td>5734</td>\n",
       "      <td>0.012982</td>\n",
       "      <td>3.290896</td>\n",
       "    </tr>\n",
       "    <tr>\n",
       "      <th>352</th>\n",
       "      <td>5695</td>\n",
       "      <td>0.001236</td>\n",
       "      <td>3.293942</td>\n",
       "    </tr>\n",
       "  </tbody>\n",
       "</table>\n",
       "</div>"
      ],
      "text/plain": [
       "     VOLUME      DISP     PRICE\n",
       "4     13561  0.027591  2.651206\n",
       "91     5937  0.006900  2.652181\n",
       "178    5151  0.006588  3.293924\n",
       "265    5734  0.012982  3.290896\n",
       "352    5695  0.001236  3.293942"
      ]
     },
     "execution_count": 87,
     "metadata": {},
     "output_type": "execute_result"
    }
   ],
   "source": [
    "#corrected the total disp.\n",
    "new_df['DISP'] = new_df['DISP'] + 0.1*new_df['X']\n",
    "new_df.drop(columns = 'X',inplace = True)\n",
    "new_df.head()"
   ]
  },
  {
   "cell_type": "code",
   "execution_count": 88,
   "metadata": {},
   "outputs": [
    {
     "data": {
      "text/plain": [
       "Text(0,0.5,'disp')"
      ]
     },
     "execution_count": 88,
     "metadata": {},
     "output_type": "execute_result"
    },
    {
     "data": {
      "image/png": "[encoded data removed]",
      "text/plain": [
       "<Figure size 1152x432 with 2 Axes>"
      ]
     },
     "metadata": {
      "needs_background": "light"
     },
     "output_type": "display_data"
    }
   ],
   "source": [
    "fig, axs = plt.subplots(1 , 1, figsize=(16,6))\n",
    "\n",
    "im = axs.scatter(new_df['PRICE'], new_df['VOLUME'], c=np.clip(new_df['DISP'], 0, 1), \n",
    "                     cmap='viridis', alpha=1.0, s=20)\n",
    "axs.set_xlabel('price')\n",
    "#axs.set_xlim()\n",
    "axs.set_ylabel('volume')\n",
    "cbar = fig.colorbar(im, ax=axs)\n",
    "cbar.ax.set_ylabel('disp', rotation=270)\n",
    "    "
   ]
  },
  {
   "cell_type": "code",
   "execution_count": 89,
   "metadata": {},
   "outputs": [],
   "source": [
    "#lets fit the model again and calculate mse. "
   ]
  },
  {
   "cell_type": "code",
   "execution_count": 90,
   "metadata": {},
   "outputs": [
    {
     "name": "stdout",
     "output_type": "stream",
     "text": [
      "Mean Squared Error : 26257329.672330733\n"
     ]
    }
   ],
   "source": [
    "from sklearn.linear_model import LinearRegression\n",
    "from sklearn.metrics import mean_squared_error,mean_absolute_error\n",
    "copy = new_df.copy()\n",
    "#print(df.head())\n",
    "#print(target)\n",
    "target  = new_df['VOLUME']\n",
    "copy.drop(columns = 'VOLUME' , inplace = True)\n",
    "X_train, X_test, y_train, y_test= train_test_split(copy, target , random_state=111)\n",
    "reg = LinearRegression().fit(X_train, y_train)\n",
    "print('Mean Squared Error :',mean_squared_error(y_test, reg.predict(X_test)))"
   ]
  },
  {
   "cell_type": "code",
   "execution_count": 46,
   "metadata": {},
   "outputs": [],
   "source": [
    "#The effect of ad exposure on sales is subject to the law of diminishing returns.\n",
    "#Changing the level of ad exposure brings about a relative change in sales volumes."
   ]
  },
  {
   "cell_type": "code",
   "execution_count": 47,
   "metadata": {},
   "outputs": [],
   "source": [
    "#To clearly express Effect 3, we rewrite the above equation as follows\n",
    "                 \n",
    "                          #yt=β0+β1xt+λβ1st−1+εt\n",
    "\n",
    "#The above expression implies that the rate of change of sales volumes with respect to ad exposure in the same time period is constant, \n",
    "#i.e, ∂yt/∂xt=β1. However, Effect 3 implies that this rate tapers off as we increase ad exposure.\n",
    "\n",
    "\n",
    "#Several functions satisfy this property(Joy 2006), e.g, the log function and the logistic function. We pick the logistic function with \n",
    "#parameter α for its flexibility. The model now becomes\n",
    "\n",
    "                        #yt=β0+β1st+εt\n",
    "                      \n",
    "                        #st=1/ 1+e−αxt + λst"
   ]
  },
  {
   "cell_type": "code",
   "execution_count": 91,
   "metadata": {},
   "outputs": [],
   "source": [
    "#lets implement the above effects."
   ]
  },
  {
   "cell_type": "code",
   "execution_count": 92,
   "metadata": {},
   "outputs": [
    {
     "data": {
      "text/html": [
       "<div>\n",
       "<style scoped>\n",
       "    .dataframe tbody tr th:only-of-type {\n",
       "        vertical-align: middle;\n",
       "    }\n",
       "\n",
       "    .dataframe tbody tr th {\n",
       "        vertical-align: top;\n",
       "    }\n",
       "\n",
       "    .dataframe thead th {\n",
       "        text-align: right;\n",
       "    }\n",
       "</style>\n",
       "<table border=\"1\" class=\"dataframe\">\n",
       "  <thead>\n",
       "    <tr style=\"text-align: right;\">\n",
       "      <th></th>\n",
       "      <th>VOLUME</th>\n",
       "      <th>DISP</th>\n",
       "      <th>PRICE</th>\n",
       "    </tr>\n",
       "  </thead>\n",
       "  <tbody>\n",
       "    <tr>\n",
       "      <th>4</th>\n",
       "      <td>13561</td>\n",
       "      <td>0.513792</td>\n",
       "      <td>2.651206</td>\n",
       "    </tr>\n",
       "    <tr>\n",
       "      <th>91</th>\n",
       "      <td>5937</td>\n",
       "      <td>0.504829</td>\n",
       "      <td>2.652181</td>\n",
       "    </tr>\n",
       "    <tr>\n",
       "      <th>178</th>\n",
       "      <td>5151</td>\n",
       "      <td>0.503501</td>\n",
       "      <td>3.293924</td>\n",
       "    </tr>\n",
       "    <tr>\n",
       "      <th>265</th>\n",
       "      <td>5734</td>\n",
       "      <td>0.506799</td>\n",
       "      <td>3.290896</td>\n",
       "    </tr>\n",
       "    <tr>\n",
       "      <th>352</th>\n",
       "      <td>5695</td>\n",
       "      <td>0.501236</td>\n",
       "      <td>3.293942</td>\n",
       "    </tr>\n",
       "  </tbody>\n",
       "</table>\n",
       "</div>"
      ],
      "text/plain": [
       "     VOLUME      DISP     PRICE\n",
       "4     13561  0.513792  2.651206\n",
       "91     5937  0.504829  2.652181\n",
       "178    5151  0.503501  3.293924\n",
       "265    5734  0.506799  3.290896\n",
       "352    5695  0.501236  3.293942"
      ]
     },
     "execution_count": 92,
     "metadata": {},
     "output_type": "execute_result"
    }
   ],
   "source": [
    "#let alpha be -2.\n",
    "df = pd.read_csv(\"/Users/shiksharawat/Desktop/cheese.csv\")\n",
    "new_df = df[df['RETAILER'] == 'CHICAGO - DOMINICK']\n",
    "new_df.drop(columns = 'RETAILER', inplace = True)\n",
    "\n",
    "a = [0]\n",
    "for i in new_df['DISP']:\n",
    "    a.append(i)\n",
    "    \n",
    "del a[-1] #value of last row need now be added anywhere.\n",
    "b = []\n",
    "b = np.array(a)\n",
    "\n",
    "new_df['X'] = b\n",
    "\n",
    "def disp(d):\n",
    "    a = 1 / (1 + np.exp((-2)*d))\n",
    "    return(a)\n",
    "    \n",
    "\n",
    "new_df['DISP'] = disp(new_df['DISP'])\n",
    "\n",
    "new_df['DISP'] = new_df['DISP'] + 0.1*new_df['X']\n",
    "new_df.drop(columns = 'X',inplace = True)\n",
    "new_df.head()"
   ]
  },
  {
   "cell_type": "code",
   "execution_count": 93,
   "metadata": {},
   "outputs": [],
   "source": [
    "#Crrent equation implies that the increase in sales from increase in ad exposure is \n",
    "#independent of volume which was being sold earlier to advertisement. In other words, it is absolute.\n",
    "#In practice, we usually see that sales increase in a relative manner.\n",
    "#To consider this effect lets take log of target to make it relative."
   ]
  },
  {
   "cell_type": "code",
   "execution_count": 52,
   "metadata": {},
   "outputs": [],
   "source": [
    "def volume(p):\n",
    "    return(np.log(p))\n",
    "    \n",
    "\n",
    "new_df['log_volume'] = volume(new_df['VOLUME'])"
   ]
  },
  {
   "cell_type": "code",
   "execution_count": 53,
   "metadata": {},
   "outputs": [],
   "source": [
    "new_df.drop(columns = 'VOLUME',inplace = True)"
   ]
  },
  {
   "cell_type": "code",
   "execution_count": null,
   "metadata": {},
   "outputs": [],
   "source": [
    "#In order to bring price into the model, we rely on the price elasticity of demand, \n",
    "#a measure of responsiveness of the quantity of the good demanded to a \n",
    "#change in its price. We can argue that sales volumes directly reflect \n",
    "#the demand for the product, assuming that production can keep up with demand linearly. \n",
    "#The price elasticity E is expressed as:\n",
    "     \n",
    "                   #E= (∂qt/qt) / (∂pt/pt)\n",
    "        \n",
    "#where pt is the price of the product at time t and qt is the quantity of the product demanded. \n",
    "#Assuming sales volumes are directly proportional to quantity demanded, \n",
    "#we can write yt=kqt, where k is a constant of proportionality. Using this in the above expression we have\n",
    "\n",
    "\n",
    "                   #(∂logyt/∂pt)= kElogpt\n",
    "    \n",
    "#We can readily merge kE into one term and include the above expression into the regression model. Finally, we have\n",
    "\n",
    "                  #logyt=β0+β1st+β2logpt\n",
    "    \n",
    "                   #st= 1/(1+e−αxt) + λst \n",
    "    "
   ]
  },
  {
   "cell_type": "code",
   "execution_count": 50,
   "metadata": {},
   "outputs": [],
   "source": [
    "def price(p):\n",
    "    return(np.log(p))\n",
    "    \n",
    "\n",
    "new_df['log_price'] = price(new_df['PRICE'])\n"
   ]
  },
  {
   "cell_type": "code",
   "execution_count": 51,
   "metadata": {},
   "outputs": [],
   "source": [
    "new_df.drop(columns = 'PRICE',inplace = True)"
   ]
  },
  {
   "cell_type": "code",
   "execution_count": 55,
   "metadata": {},
   "outputs": [
    {
     "data": {
      "text/html": [
       "<div>\n",
       "<style scoped>\n",
       "    .dataframe tbody tr th:only-of-type {\n",
       "        vertical-align: middle;\n",
       "    }\n",
       "\n",
       "    .dataframe tbody tr th {\n",
       "        vertical-align: top;\n",
       "    }\n",
       "\n",
       "    .dataframe thead th {\n",
       "        text-align: right;\n",
       "    }\n",
       "</style>\n",
       "<table border=\"1\" class=\"dataframe\">\n",
       "  <thead>\n",
       "    <tr style=\"text-align: right;\">\n",
       "      <th></th>\n",
       "      <th>DISP</th>\n",
       "      <th>log_price</th>\n",
       "      <th>log_volume</th>\n",
       "    </tr>\n",
       "  </thead>\n",
       "  <tbody>\n",
       "    <tr>\n",
       "      <th>4</th>\n",
       "      <td>0.513792</td>\n",
       "      <td>0.975015</td>\n",
       "      <td>9.514953</td>\n",
       "    </tr>\n",
       "    <tr>\n",
       "      <th>91</th>\n",
       "      <td>0.504829</td>\n",
       "      <td>0.975382</td>\n",
       "      <td>8.688959</td>\n",
       "    </tr>\n",
       "    <tr>\n",
       "      <th>178</th>\n",
       "      <td>0.503501</td>\n",
       "      <td>1.192080</td>\n",
       "      <td>8.546946</td>\n",
       "    </tr>\n",
       "    <tr>\n",
       "      <th>265</th>\n",
       "      <td>0.506799</td>\n",
       "      <td>1.191160</td>\n",
       "      <td>8.654169</td>\n",
       "    </tr>\n",
       "    <tr>\n",
       "      <th>352</th>\n",
       "      <td>0.501236</td>\n",
       "      <td>1.192085</td>\n",
       "      <td>8.647344</td>\n",
       "    </tr>\n",
       "  </tbody>\n",
       "</table>\n",
       "</div>"
      ],
      "text/plain": [
       "         DISP  log_price  log_volume\n",
       "4    0.513792   0.975015    9.514953\n",
       "91   0.504829   0.975382    8.688959\n",
       "178  0.503501   1.192080    8.546946\n",
       "265  0.506799   1.191160    8.654169\n",
       "352  0.501236   1.192085    8.647344"
      ]
     },
     "execution_count": 55,
     "metadata": {},
     "output_type": "execute_result"
    }
   ],
   "source": [
    "new_df.head()"
   ]
  },
  {
   "cell_type": "code",
   "execution_count": 56,
   "metadata": {},
   "outputs": [
    {
     "name": "stdout",
     "output_type": "stream",
     "text": [
      "Mean Squared Error : 0.020985893079917703\n"
     ]
    }
   ],
   "source": [
    "#Lets start with a very basic linear regression model.\n",
    "from sklearn.linear_model import LinearRegression\n",
    "from sklearn.metrics import mean_squared_error,mean_absolute_error\n",
    "copy = new_df.copy()\n",
    "#print(df.head())\n",
    "#print(target)\n",
    "target  = new_df['log_volume']\n",
    "copy.drop(columns = 'log_volume' , inplace = True)\n",
    "X_train, X_test, y_train, y_test= train_test_split(copy, target , random_state=111)\n",
    "reg = LinearRegression().fit(X_train, y_train)\n",
    "print('Mean Squared Error :',mean_squared_error(y_test, reg.predict(X_test)))"
   ]
  },
  {
   "cell_type": "code",
   "execution_count": 58,
   "metadata": {},
   "outputs": [
    {
     "name": "stdout",
     "output_type": "stream",
     "text": [
      "0.9475643693729713\n"
     ]
    }
   ],
   "source": [
    "from sklearn.metrics import r2_score\n",
    "y_pred = reg.predict(X_test)\n",
    "score = r2_score(y_test, y_pred) \n",
    "print(score)"
   ]
  },
  {
   "cell_type": "code",
   "execution_count": null,
   "metadata": {},
   "outputs": [],
   "source": []
  }
 ],
 "metadata": {
  "kernelspec": {
   "display_name": "Python 3",
   "language": "python",
   "name": "python3"
  },
  "language_info": {
   "codemirror_mode": {
    "name": "ipython",
    "version": 3
   },
   "file_extension": ".py",
   "mimetype": "text/x-python",
   "name": "python",
   "nbconvert_exporter": "python",
   "pygments_lexer": "ipython3",
   "version": "3.7.0"
  }
 },
 "nbformat": 4,
 "nbformat_minor": 2
}
